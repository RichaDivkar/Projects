{
 "cells": [
  {
   "cell_type": "code",
   "execution_count": 5,
   "id": "625319bd",
   "metadata": {},
   "outputs": [],
   "source": [
    "import pandas as pd\n",
    "import matplotlib.pyplot as plt\n",
    "import numpy as np\n",
    "import seaborn as sns\n",
    "from sklearn.preprocessing import MinMaxScaler\n",
    "from sklearn.model_selection import train_test_split\n",
    "from sklearn.preprocessing import LabelEncoder\n",
    "from sklearn.linear_model import LogisticRegression\n",
    "from sklearn.metrics import mean_absolute_error\n",
    "from xgboost import XGBRegressor\n",
    "from sklearn.model_selection import cross_val_score\n",
    "import pickle\n"
   ]
  },
  {
   "cell_type": "markdown",
   "id": "b926bf72",
   "metadata": {},
   "source": [
    "---------------------------------------------------------------------------"
   ]
  },
  {
   "cell_type": "code",
   "execution_count": 6,
   "id": "1691bbe7",
   "metadata": {},
   "outputs": [],
   "source": [
    "loan_df=pd.read_csv(\"loan_data_set.csv\")"
   ]
  },
  {
   "cell_type": "code",
   "execution_count": 7,
   "id": "b3ccd668",
   "metadata": {},
   "outputs": [
    {
     "name": "stdout",
     "output_type": "stream",
     "text": [
      "<class 'pandas.core.frame.DataFrame'>\n",
      "RangeIndex: 614 entries, 0 to 613\n",
      "Data columns (total 13 columns):\n",
      " #   Column             Non-Null Count  Dtype  \n",
      "---  ------             --------------  -----  \n",
      " 0   Loan_ID            614 non-null    object \n",
      " 1   Gender             601 non-null    object \n",
      " 2   Married            611 non-null    object \n",
      " 3   Dependents         599 non-null    object \n",
      " 4   Education          614 non-null    object \n",
      " 5   Self_Employed      582 non-null    object \n",
      " 6   ApplicantIncome    614 non-null    int64  \n",
      " 7   CoapplicantIncome  614 non-null    float64\n",
      " 8   LoanAmount         592 non-null    float64\n",
      " 9   Loan_Amount_Term   600 non-null    float64\n",
      " 10  Credit_History     564 non-null    float64\n",
      " 11  Property_Area      614 non-null    object \n",
      " 12  Loan_Status        614 non-null    object \n",
      "dtypes: float64(4), int64(1), object(8)\n",
      "memory usage: 62.5+ KB\n"
     ]
    }
   ],
   "source": [
    "loan_df.info()"
   ]
  },
  {
   "cell_type": "code",
   "execution_count": 8,
   "id": "3a50b06b",
   "metadata": {},
   "outputs": [
    {
     "data": {
      "text/html": [
       "<div>\n",
       "<style scoped>\n",
       "    .dataframe tbody tr th:only-of-type {\n",
       "        vertical-align: middle;\n",
       "    }\n",
       "\n",
       "    .dataframe tbody tr th {\n",
       "        vertical-align: top;\n",
       "    }\n",
       "\n",
       "    .dataframe thead th {\n",
       "        text-align: right;\n",
       "    }\n",
       "</style>\n",
       "<table border=\"1\" class=\"dataframe\">\n",
       "  <thead>\n",
       "    <tr style=\"text-align: right;\">\n",
       "      <th></th>\n",
       "      <th>ApplicantIncome</th>\n",
       "      <th>CoapplicantIncome</th>\n",
       "      <th>LoanAmount</th>\n",
       "      <th>Loan_Amount_Term</th>\n",
       "      <th>Credit_History</th>\n",
       "    </tr>\n",
       "  </thead>\n",
       "  <tbody>\n",
       "    <tr>\n",
       "      <th>count</th>\n",
       "      <td>614.000000</td>\n",
       "      <td>614.000000</td>\n",
       "      <td>592.000000</td>\n",
       "      <td>600.00000</td>\n",
       "      <td>564.000000</td>\n",
       "    </tr>\n",
       "    <tr>\n",
       "      <th>mean</th>\n",
       "      <td>5403.459283</td>\n",
       "      <td>1621.245798</td>\n",
       "      <td>146.412162</td>\n",
       "      <td>342.00000</td>\n",
       "      <td>0.842199</td>\n",
       "    </tr>\n",
       "    <tr>\n",
       "      <th>std</th>\n",
       "      <td>6109.041673</td>\n",
       "      <td>2926.248369</td>\n",
       "      <td>85.587325</td>\n",
       "      <td>65.12041</td>\n",
       "      <td>0.364878</td>\n",
       "    </tr>\n",
       "    <tr>\n",
       "      <th>min</th>\n",
       "      <td>150.000000</td>\n",
       "      <td>0.000000</td>\n",
       "      <td>9.000000</td>\n",
       "      <td>12.00000</td>\n",
       "      <td>0.000000</td>\n",
       "    </tr>\n",
       "    <tr>\n",
       "      <th>25%</th>\n",
       "      <td>2877.500000</td>\n",
       "      <td>0.000000</td>\n",
       "      <td>100.000000</td>\n",
       "      <td>360.00000</td>\n",
       "      <td>1.000000</td>\n",
       "    </tr>\n",
       "    <tr>\n",
       "      <th>50%</th>\n",
       "      <td>3812.500000</td>\n",
       "      <td>1188.500000</td>\n",
       "      <td>128.000000</td>\n",
       "      <td>360.00000</td>\n",
       "      <td>1.000000</td>\n",
       "    </tr>\n",
       "    <tr>\n",
       "      <th>75%</th>\n",
       "      <td>5795.000000</td>\n",
       "      <td>2297.250000</td>\n",
       "      <td>168.000000</td>\n",
       "      <td>360.00000</td>\n",
       "      <td>1.000000</td>\n",
       "    </tr>\n",
       "    <tr>\n",
       "      <th>max</th>\n",
       "      <td>81000.000000</td>\n",
       "      <td>41667.000000</td>\n",
       "      <td>700.000000</td>\n",
       "      <td>480.00000</td>\n",
       "      <td>1.000000</td>\n",
       "    </tr>\n",
       "  </tbody>\n",
       "</table>\n",
       "</div>"
      ],
      "text/plain": [
       "       ApplicantIncome  CoapplicantIncome  LoanAmount  Loan_Amount_Term  \\\n",
       "count       614.000000         614.000000  592.000000         600.00000   \n",
       "mean       5403.459283        1621.245798  146.412162         342.00000   \n",
       "std        6109.041673        2926.248369   85.587325          65.12041   \n",
       "min         150.000000           0.000000    9.000000          12.00000   \n",
       "25%        2877.500000           0.000000  100.000000         360.00000   \n",
       "50%        3812.500000        1188.500000  128.000000         360.00000   \n",
       "75%        5795.000000        2297.250000  168.000000         360.00000   \n",
       "max       81000.000000       41667.000000  700.000000         480.00000   \n",
       "\n",
       "       Credit_History  \n",
       "count      564.000000  \n",
       "mean         0.842199  \n",
       "std          0.364878  \n",
       "min          0.000000  \n",
       "25%          1.000000  \n",
       "50%          1.000000  \n",
       "75%          1.000000  \n",
       "max          1.000000  "
      ]
     },
     "execution_count": 8,
     "metadata": {},
     "output_type": "execute_result"
    }
   ],
   "source": [
    "loan_df.describe()"
   ]
  },
  {
   "cell_type": "code",
   "execution_count": 9,
   "id": "0dd6a3f7",
   "metadata": {},
   "outputs": [
    {
     "name": "stdout",
     "output_type": "stream",
     "text": [
      "Gender              13\n",
      "Married              3\n",
      "Dependents          15\n",
      "Self_Employed       32\n",
      "LoanAmount          22\n",
      "Loan_Amount_Term    14\n",
      "Credit_History      50\n",
      "dtype: int64\n"
     ]
    }
   ],
   "source": [
    "missing_val_count_by_column = (loan_df.isnull().sum())\n",
    "print(missing_val_count_by_column[missing_val_count_by_column > 0])"
   ]
  },
  {
   "cell_type": "code",
   "execution_count": 10,
   "id": "f205c2dc",
   "metadata": {},
   "outputs": [
    {
     "data": {
      "text/plain": [
       "614"
      ]
     },
     "execution_count": 10,
     "metadata": {},
     "output_type": "execute_result"
    }
   ],
   "source": [
    "len(loan_df)"
   ]
  },
  {
   "cell_type": "code",
   "execution_count": 11,
   "id": "0c4855a6",
   "metadata": {},
   "outputs": [
    {
     "data": {
      "image/png": "[encoded data removed]",
      "text/plain": [
       "<Figure size 432x288 with 2 Axes>"
      ]
     },
     "metadata": {
      "needs_background": "light"
     },
     "output_type": "display_data"
    }
   ],
   "source": [
    "ax = sns.heatmap(loan_df.corr(), annot=True)"
   ]
  },
  {
   "cell_type": "markdown",
   "id": "8a9bd79d",
   "metadata": {},
   "source": [
    "-----------------------------------------------------------"
   ]
  },
  {
   "cell_type": "code",
   "execution_count": 12,
   "id": "a63b31be",
   "metadata": {},
   "outputs": [],
   "source": [
    "mode_credit_history = loan_df['Credit_History'].mode()[0]\n",
    "loan_df['Credit_History'].fillna(mode_credit_history,inplace=True)\n",
    "loan_df['Credit_History'] = loan_df['Credit_History'].apply(lambda x: int(x) if pd.notnull(x) else x)"
   ]
  },
  {
   "cell_type": "code",
   "execution_count": 13,
   "id": "c28cb292",
   "metadata": {},
   "outputs": [],
   "source": [
    "mode_Loan_Amount_Term = loan_df['Loan_Amount_Term'].mode()[0]\n",
    "loan_df['Loan_Amount_Term'].fillna(mode_Loan_Amount_Term,inplace=True)\n",
    "loan_df['Loan_Amount_Term'] = loan_df['Loan_Amount_Term'].apply(lambda x: int(x) if pd.notnull(x) else x)"
   ]
  },
  {
   "cell_type": "code",
   "execution_count": 14,
   "id": "555d388d",
   "metadata": {},
   "outputs": [],
   "source": [
    "mean_LoanAmount = loan_df['LoanAmount'].mean()\n",
    "loan_df['LoanAmount'].fillna(mean_LoanAmount,inplace=True)"
   ]
  },
  {
   "cell_type": "markdown",
   "id": "a842c70b",
   "metadata": {},
   "source": [
    "--------------------------------------"
   ]
  },
  {
   "cell_type": "code",
   "execution_count": 15,
   "id": "bba3be48",
   "metadata": {},
   "outputs": [],
   "source": [
    "df=loan_df.copy()"
   ]
  },
  {
   "cell_type": "code",
   "execution_count": 16,
   "id": "ec8b1d51",
   "metadata": {},
   "outputs": [
    {
     "name": "stdout",
     "output_type": "stream",
     "text": [
      "Gender           13\n",
      "Married           3\n",
      "Dependents       15\n",
      "Self_Employed    32\n",
      "dtype: int64\n"
     ]
    }
   ],
   "source": [
    "missing_val_count_by_column = (df.isnull().sum())\n",
    "print(missing_val_count_by_column[missing_val_count_by_column > 0])"
   ]
  },
  {
   "cell_type": "code",
   "execution_count": 17,
   "id": "1d732df4",
   "metadata": {},
   "outputs": [],
   "source": [
    "cleaned_loan_df = df.dropna()    #with dropping rows"
   ]
  },
  {
   "cell_type": "code",
   "execution_count": 18,
   "id": "2c7efe20",
   "metadata": {},
   "outputs": [
    {
     "name": "stdout",
     "output_type": "stream",
     "text": [
      "Series([], dtype: int64)\n"
     ]
    }
   ],
   "source": [
    "missing_val_count_by_column = (cleaned_loan_df.isnull().sum())\n",
    "print(missing_val_count_by_column[missing_val_count_by_column > 0])"
   ]
  },
  {
   "cell_type": "code",
   "execution_count": 19,
   "id": "9787db65",
   "metadata": {},
   "outputs": [],
   "source": [
    "#without droppig rows\n",
    "loan_df['Gender'].fillna(loan_df['Gender'].mode()[0],inplace=True)\n",
    "loan_df['Married'].fillna(loan_df['Married'].mode()[0],inplace=True)\n",
    "loan_df['Dependents'].fillna(loan_df['Dependents'].mode()[0],inplace=True)\n",
    "loan_df['Self_Employed'].fillna(loan_df['Self_Employed'].mode()[0],inplace=True)"
   ]
  },
  {
   "cell_type": "code",
   "execution_count": 20,
   "id": "b22b12c5",
   "metadata": {},
   "outputs": [
    {
     "data": {
      "text/plain": [
       "554"
      ]
     },
     "execution_count": 20,
     "metadata": {},
     "output_type": "execute_result"
    }
   ],
   "source": [
    "len(cleaned_loan_df)"
   ]
  },
  {
   "cell_type": "code",
   "execution_count": 21,
   "id": "78a17be6",
   "metadata": {},
   "outputs": [
    {
     "data": {
      "text/plain": [
       "614"
      ]
     },
     "execution_count": 21,
     "metadata": {},
     "output_type": "execute_result"
    }
   ],
   "source": [
    "len(loan_df)"
   ]
  },
  {
   "cell_type": "markdown",
   "id": "5ff03bb6",
   "metadata": {},
   "source": [
    "----------------------------------------"
   ]
  },
  {
   "cell_type": "code",
   "execution_count": 22,
   "id": "a3cd3804",
   "metadata": {},
   "outputs": [
    {
     "data": {
      "text/html": [
       "<div>\n",
       "<style scoped>\n",
       "    .dataframe tbody tr th:only-of-type {\n",
       "        vertical-align: middle;\n",
       "    }\n",
       "\n",
       "    .dataframe tbody tr th {\n",
       "        vertical-align: top;\n",
       "    }\n",
       "\n",
       "    .dataframe thead th {\n",
       "        text-align: right;\n",
       "    }\n",
       "</style>\n",
       "<table border=\"1\" class=\"dataframe\">\n",
       "  <thead>\n",
       "    <tr style=\"text-align: right;\">\n",
       "      <th></th>\n",
       "      <th>Gender</th>\n",
       "      <th>Loan_Status</th>\n",
       "      <th>Count</th>\n",
       "    </tr>\n",
       "  </thead>\n",
       "  <tbody>\n",
       "    <tr>\n",
       "      <th>0</th>\n",
       "      <td>Female</td>\n",
       "      <td>N</td>\n",
       "      <td>34</td>\n",
       "    </tr>\n",
       "    <tr>\n",
       "      <th>1</th>\n",
       "      <td>Female</td>\n",
       "      <td>Y</td>\n",
       "      <td>67</td>\n",
       "    </tr>\n",
       "    <tr>\n",
       "      <th>2</th>\n",
       "      <td>Male</td>\n",
       "      <td>N</td>\n",
       "      <td>138</td>\n",
       "    </tr>\n",
       "    <tr>\n",
       "      <th>3</th>\n",
       "      <td>Male</td>\n",
       "      <td>Y</td>\n",
       "      <td>315</td>\n",
       "    </tr>\n",
       "  </tbody>\n",
       "</table>\n",
       "</div>"
      ],
      "text/plain": [
       "   Gender Loan_Status  Count\n",
       "0  Female           N     34\n",
       "1  Female           Y     67\n",
       "2    Male           N    138\n",
       "3    Male           Y    315"
      ]
     },
     "execution_count": 22,
     "metadata": {},
     "output_type": "execute_result"
    }
   ],
   "source": [
    "Table1 = cleaned_loan_df.groupby(['Gender', 'Loan_Status']).size().reset_index(name='Count')\n",
    "Table1"
   ]
  },
  {
   "cell_type": "code",
   "execution_count": 23,
   "id": "7be8106e",
   "metadata": {},
   "outputs": [
    {
     "data": {
      "image/png": "[encoded data removed]",
      "text/plain": [
       "<Figure size 864x432 with 2 Axes>"
      ]
     },
     "metadata": {},
     "output_type": "display_data"
    }
   ],
   "source": [
    "fig, axes = plt.subplots(1, 2, figsize=(12, 6))\n",
    "\n",
    "female_colors = ['lightcoral', 'lightskyblue'] \n",
    "male_colors = ['gold', 'lightgreen']\n",
    "\n",
    "y_female = Table1[Table1['Gender']=='Female']['Count']\n",
    "mylabels_female = Table1[Table1['Gender']=='Female']['Loan_Status']\n",
    "\n",
    "y_male = Table1[Table1['Gender']=='Male']['Count']\n",
    "mylabels_male = Table1[Table1['Gender']=='Male']['Loan_Status']\n",
    "\n",
    "axes[0].pie(y_female, labels = mylabels_female,autopct='%1.1f%%',colors=female_colors)\n",
    "axes[0].legend()\n",
    "axes[0].set_title(\"Pie Chart of Female Passenger\",fontweight='bold')\n",
    "\n",
    "axes[1].pie(y_male, labels = mylabels_male,autopct='%1.1f%%',colors=male_colors)\n",
    "axes[1].legend()\n",
    "axes[1].set_title(\"Pie Chart of Male Passenger\",fontweight='bold')\n",
    "\n",
    "plt.show() "
   ]
  },
  {
   "cell_type": "code",
   "execution_count": 24,
   "id": "c813b86f",
   "metadata": {},
   "outputs": [
    {
     "data": {
      "image/png": "[encoded data removed]",
      "text/plain": [
       "<Figure size 864x432 with 1 Axes>"
      ]
     },
     "metadata": {},
     "output_type": "display_data"
    }
   ],
   "source": [
    "fig, axes = plt.subplots(1, 1, figsize=(12, 6))\n",
    "\n",
    "rejected_data = Table1[Table1['Loan_Status'] == 'N']\n",
    "\n",
    "rejected_colors = ['#FFCC99', '#99FF99']  \n",
    "\n",
    "axes.pie(rejected_data['Count'], labels=rejected_data['Gender'], autopct='%1.1f%%', colors=rejected_colors)\n",
    "axes.legend()\n",
    "axes.set_title(\"Pie Chart for Rejection of Loan Proposal\", fontweight='bold')\n",
    "\n",
    "plt.show()"
   ]
  },
  {
   "cell_type": "code",
   "execution_count": 25,
   "id": "ceddfeea",
   "metadata": {},
   "outputs": [
    {
     "data": {
      "text/html": [
       "<div>\n",
       "<style scoped>\n",
       "    .dataframe tbody tr th:only-of-type {\n",
       "        vertical-align: middle;\n",
       "    }\n",
       "\n",
       "    .dataframe tbody tr th {\n",
       "        vertical-align: top;\n",
       "    }\n",
       "\n",
       "    .dataframe thead th {\n",
       "        text-align: right;\n",
       "    }\n",
       "</style>\n",
       "<table border=\"1\" class=\"dataframe\">\n",
       "  <thead>\n",
       "    <tr style=\"text-align: right;\">\n",
       "      <th></th>\n",
       "      <th>Married</th>\n",
       "      <th>Loan_Status</th>\n",
       "      <th>Count</th>\n",
       "    </tr>\n",
       "  </thead>\n",
       "  <tbody>\n",
       "    <tr>\n",
       "      <th>0</th>\n",
       "      <td>No</td>\n",
       "      <td>N</td>\n",
       "      <td>72</td>\n",
       "    </tr>\n",
       "    <tr>\n",
       "      <th>1</th>\n",
       "      <td>No</td>\n",
       "      <td>Y</td>\n",
       "      <td>120</td>\n",
       "    </tr>\n",
       "    <tr>\n",
       "      <th>2</th>\n",
       "      <td>Yes</td>\n",
       "      <td>N</td>\n",
       "      <td>100</td>\n",
       "    </tr>\n",
       "    <tr>\n",
       "      <th>3</th>\n",
       "      <td>Yes</td>\n",
       "      <td>Y</td>\n",
       "      <td>262</td>\n",
       "    </tr>\n",
       "  </tbody>\n",
       "</table>\n",
       "</div>"
      ],
      "text/plain": [
       "  Married Loan_Status  Count\n",
       "0      No           N     72\n",
       "1      No           Y    120\n",
       "2     Yes           N    100\n",
       "3     Yes           Y    262"
      ]
     },
     "execution_count": 25,
     "metadata": {},
     "output_type": "execute_result"
    }
   ],
   "source": [
    "Table2 = cleaned_loan_df.groupby(['Married', 'Loan_Status']).size().reset_index(name='Count')\n",
    "Table2"
   ]
  },
  {
   "cell_type": "code",
   "execution_count": 26,
   "id": "0c07c114",
   "metadata": {},
   "outputs": [
    {
     "data": {
      "image/png": "[encoded data removed]",
      "text/plain": [
       "<Figure size 864x432 with 2 Axes>"
      ]
     },
     "metadata": {},
     "output_type": "display_data"
    }
   ],
   "source": [
    "fig, axes = plt.subplots(1, 2, figsize=(12, 6))\n",
    "\n",
    "marriedyes_colors = ['#FF9999', '#FFCC99'] \n",
    "marriedno_colors = ['#66B2FF', '#99FF99'] \n",
    "\n",
    "y_marriedyes = Table2[Table2['Married']=='Yes']['Count']\n",
    "mylabels_marriedyes = Table2[Table2['Married']=='Yes']['Loan_Status']\n",
    "\n",
    "y_marriedno = Table2[Table2['Married']=='No']['Count']\n",
    "mylabels_marriedno = Table2[Table2['Married']=='No']['Loan_Status']\n",
    "\n",
    "axes[0].pie(y_marriedyes, labels = mylabels_marriedyes,autopct='%1.1f%%',colors=marriedyes_colors)\n",
    "axes[0].legend()\n",
    "axes[0].set_title(\"Pie Chart of married Passenger\",fontweight='bold')\n",
    "\n",
    "axes[1].pie(y_marriedno, labels = mylabels_marriedno,autopct='%1.1f%%',colors=marriedno_colors)\n",
    "axes[1].legend()\n",
    "axes[1].set_title(\"Pie Chart of non married Passenger\",fontweight='bold')\n",
    "\n",
    "plt.show() "
   ]
  },
  {
   "cell_type": "code",
   "execution_count": 27,
   "id": "24005f48",
   "metadata": {},
   "outputs": [
    {
     "data": {
      "image/png": "[encoded data removed]",
      "text/plain": [
       "<Figure size 864x432 with 1 Axes>"
      ]
     },
     "metadata": {},
     "output_type": "display_data"
    }
   ],
   "source": [
    "fig, axes = plt.subplots(1, 1, figsize=(12, 6))\n",
    "\n",
    "Marriagerejected_data = Table2[Table2['Loan_Status'] == 'N']\n",
    "\n",
    "Marriagerejected_colors = ['gold', 'cyan']  \n",
    "\n",
    "axes.pie(Marriagerejected_data['Count'], labels=Marriagerejected_data['Married'], autopct='%1.1f%%', colors=Marriagerejected_colors)\n",
    "axes.legend()\n",
    "axes.set_title(\"Pie Chart for Rejection of Loan Proposal based on marriage status\", fontweight='bold')\n",
    "\n",
    "plt.show()"
   ]
  },
  {
   "cell_type": "code",
   "execution_count": 28,
   "id": "59fa7132",
   "metadata": {},
   "outputs": [
    {
     "data": {
      "text/html": [
       "<div>\n",
       "<style scoped>\n",
       "    .dataframe tbody tr th:only-of-type {\n",
       "        vertical-align: middle;\n",
       "    }\n",
       "\n",
       "    .dataframe tbody tr th {\n",
       "        vertical-align: top;\n",
       "    }\n",
       "\n",
       "    .dataframe thead th {\n",
       "        text-align: right;\n",
       "    }\n",
       "</style>\n",
       "<table border=\"1\" class=\"dataframe\">\n",
       "  <thead>\n",
       "    <tr style=\"text-align: right;\">\n",
       "      <th></th>\n",
       "      <th>Dependents</th>\n",
       "      <th>Loan_Status</th>\n",
       "      <th>Count</th>\n",
       "    </tr>\n",
       "  </thead>\n",
       "  <tbody>\n",
       "    <tr>\n",
       "      <th>0</th>\n",
       "      <td>0</td>\n",
       "      <td>N</td>\n",
       "      <td>99</td>\n",
       "    </tr>\n",
       "    <tr>\n",
       "      <th>1</th>\n",
       "      <td>0</td>\n",
       "      <td>Y</td>\n",
       "      <td>220</td>\n",
       "    </tr>\n",
       "    <tr>\n",
       "      <th>2</th>\n",
       "      <td>1</td>\n",
       "      <td>N</td>\n",
       "      <td>34</td>\n",
       "    </tr>\n",
       "    <tr>\n",
       "      <th>3</th>\n",
       "      <td>1</td>\n",
       "      <td>Y</td>\n",
       "      <td>61</td>\n",
       "    </tr>\n",
       "    <tr>\n",
       "      <th>4</th>\n",
       "      <td>2</td>\n",
       "      <td>N</td>\n",
       "      <td>22</td>\n",
       "    </tr>\n",
       "    <tr>\n",
       "      <th>5</th>\n",
       "      <td>2</td>\n",
       "      <td>Y</td>\n",
       "      <td>72</td>\n",
       "    </tr>\n",
       "    <tr>\n",
       "      <th>6</th>\n",
       "      <td>3+</td>\n",
       "      <td>N</td>\n",
       "      <td>17</td>\n",
       "    </tr>\n",
       "    <tr>\n",
       "      <th>7</th>\n",
       "      <td>3+</td>\n",
       "      <td>Y</td>\n",
       "      <td>29</td>\n",
       "    </tr>\n",
       "  </tbody>\n",
       "</table>\n",
       "</div>"
      ],
      "text/plain": [
       "  Dependents Loan_Status  Count\n",
       "0          0           N     99\n",
       "1          0           Y    220\n",
       "2          1           N     34\n",
       "3          1           Y     61\n",
       "4          2           N     22\n",
       "5          2           Y     72\n",
       "6         3+           N     17\n",
       "7         3+           Y     29"
      ]
     },
     "execution_count": 28,
     "metadata": {},
     "output_type": "execute_result"
    }
   ],
   "source": [
    "Table3 = cleaned_loan_df.groupby(['Dependents', 'Loan_Status']).size().reset_index(name='Count')\n",
    "Table3"
   ]
  },
  {
   "cell_type": "code",
   "execution_count": 29,
   "id": "6bcbabef",
   "metadata": {},
   "outputs": [
    {
     "data": {
      "image/png": "[encoded data removed]",
      "text/plain": [
       "<Figure size 720x432 with 1 Axes>"
      ]
     },
     "metadata": {
      "needs_background": "light"
     },
     "output_type": "display_data"
    }
   ],
   "source": [
    "dependents = Table3['Dependents'].unique()\n",
    "dependents.sort()  \n",
    "\n",
    "count_Y = Table3[Table3['Loan_Status'] == 'Y']['Count'].tolist()\n",
    "count_N = Table3[Table3['Loan_Status'] == 'N']['Count'].tolist()\n",
    "\n",
    "bar_width = 0.35\n",
    "index = np.arange(len(dependents))\n",
    "\n",
    "plt.figure(figsize=(10, 6))  \n",
    "bars1 = plt.bar(index, count_Y, bar_width, label='Approved (Y)', color='gray')  \n",
    "bars2 = plt.bar(index + bar_width, count_N, bar_width, label='Not Approved (N)', color='tan')  \n",
    "\n",
    "plt.xlabel('Dependents')\n",
    "plt.ylabel('Count')\n",
    "plt.title('Count of Loan Status by Dependents')\n",
    "plt.xticks(index + bar_width / 2, dependents)\n",
    "plt.legend()\n",
    "\n",
    "\n",
    "plt.tight_layout()\n",
    "plt.show()"
   ]
  },
  {
   "cell_type": "code",
   "execution_count": 30,
   "id": "c88440a6",
   "metadata": {},
   "outputs": [
    {
     "data": {
      "text/html": [
       "<div>\n",
       "<style scoped>\n",
       "    .dataframe tbody tr th:only-of-type {\n",
       "        vertical-align: middle;\n",
       "    }\n",
       "\n",
       "    .dataframe tbody tr th {\n",
       "        vertical-align: top;\n",
       "    }\n",
       "\n",
       "    .dataframe thead th {\n",
       "        text-align: right;\n",
       "    }\n",
       "</style>\n",
       "<table border=\"1\" class=\"dataframe\">\n",
       "  <thead>\n",
       "    <tr style=\"text-align: right;\">\n",
       "      <th></th>\n",
       "      <th>Credit_History</th>\n",
       "      <th>Loan_Status</th>\n",
       "      <th>Count</th>\n",
       "    </tr>\n",
       "  </thead>\n",
       "  <tbody>\n",
       "    <tr>\n",
       "      <th>0</th>\n",
       "      <td>0</td>\n",
       "      <td>N</td>\n",
       "      <td>73</td>\n",
       "    </tr>\n",
       "    <tr>\n",
       "      <th>1</th>\n",
       "      <td>0</td>\n",
       "      <td>Y</td>\n",
       "      <td>7</td>\n",
       "    </tr>\n",
       "    <tr>\n",
       "      <th>2</th>\n",
       "      <td>1</td>\n",
       "      <td>N</td>\n",
       "      <td>99</td>\n",
       "    </tr>\n",
       "    <tr>\n",
       "      <th>3</th>\n",
       "      <td>1</td>\n",
       "      <td>Y</td>\n",
       "      <td>375</td>\n",
       "    </tr>\n",
       "  </tbody>\n",
       "</table>\n",
       "</div>"
      ],
      "text/plain": [
       "   Credit_History Loan_Status  Count\n",
       "0               0           N     73\n",
       "1               0           Y      7\n",
       "2               1           N     99\n",
       "3               1           Y    375"
      ]
     },
     "execution_count": 30,
     "metadata": {},
     "output_type": "execute_result"
    }
   ],
   "source": [
    "Table4 = cleaned_loan_df.groupby(['Credit_History', 'Loan_Status']).size().reset_index(name='Count')\n",
    "Table4"
   ]
  },
  {
   "cell_type": "code",
   "execution_count": 31,
   "id": "ce83f0ed",
   "metadata": {},
   "outputs": [
    {
     "data": {
      "image/png": "[encoded data removed]",
      "text/plain": [
       "<Figure size 720x576 with 4 Axes>"
      ]
     },
     "metadata": {},
     "output_type": "display_data"
    }
   ],
   "source": [
    "sns.set(style=\"darkgrid\")\n",
    "fig, axs = plt.subplots(2, 2, figsize=(10, 8))\n",
    "\n",
    "sns.histplot(data=cleaned_loan_df, x=\"ApplicantIncome\", kde=True, ax=axs[0, 0], color='green')\n",
    "sns.histplot(data=cleaned_loan_df, x=\"CoapplicantIncome\", kde=True, ax=axs[0, 1], color='skyblue')\n",
    "sns.histplot(data=cleaned_loan_df, x=\"LoanAmount\", kde=True, ax=axs[1, 0], color='orange');\n",
    "sns.histplot(data=cleaned_loan_df, x=\"Loan_Amount_Term\", kde=True, ax=axs[1, 1], color='pink');"
   ]
  },
  {
   "cell_type": "markdown",
   "id": "bfd56a9b",
   "metadata": {},
   "source": [
    "***we have already set limits:***\n",
    "\n",
    "ApplicantIncome: 0,10000 \n",
    "\n",
    "CoapplicantIncome: 0,10000\n",
    "\n",
    "LoanAmount: 9.0,700.0\n",
    "\n",
    "Loan_Amount_Term:12.0,360.0\n"
   ]
  },
  {
   "cell_type": "code",
   "execution_count": 32,
   "id": "49c5935f",
   "metadata": {},
   "outputs": [],
   "source": [
    "df['ApplicantIncome']=(df['ApplicantIncome']-0)/(100000-0)\n",
    "df['CoapplicantIncome']=(df['CoapplicantIncome']-0)/(100000-0)\n",
    "df['LoanAmount']=(df['LoanAmount']-9)/(700-9)\n",
    "df['Loan_Amount_Term']=(df['Loan_Amount_Term']-12)/(540-12)"
   ]
  },
  {
   "cell_type": "code",
   "execution_count": null,
   "id": "f9b96349",
   "metadata": {},
   "outputs": [],
   "source": []
  },
  {
   "cell_type": "code",
   "execution_count": 33,
   "id": "3caa0893",
   "metadata": {},
   "outputs": [
    {
     "data": {
      "image/png": "[encoded data removed]",
      "text/plain": [
       "<Figure size 720x576 with 4 Axes>"
      ]
     },
     "metadata": {},
     "output_type": "display_data"
    }
   ],
   "source": [
    "sns.set(style=\"darkgrid\")\n",
    "fig, axs = plt.subplots(2, 2, figsize=(10, 8))\n",
    "\n",
    "sns.histplot(data=df, x=\"ApplicantIncome\", kde=True, ax=axs[0, 0], color='green')\n",
    "sns.histplot(data=df, x=\"CoapplicantIncome\", kde=True, ax=axs[0, 1], color='skyblue')\n",
    "sns.histplot(data=df, x=\"LoanAmount\", kde=True, ax=axs[1, 0], color='orange');\n",
    "sns.histplot(data=df, x=\"Loan_Amount_Term\", kde=True, ax=axs[1, 1], color='pink');"
   ]
  },
  {
   "cell_type": "code",
   "execution_count": 34,
   "id": "83a8a860",
   "metadata": {},
   "outputs": [
    {
     "data": {
      "text/html": [
       "<div>\n",
       "<style scoped>\n",
       "    .dataframe tbody tr th:only-of-type {\n",
       "        vertical-align: middle;\n",
       "    }\n",
       "\n",
       "    .dataframe tbody tr th {\n",
       "        vertical-align: top;\n",
       "    }\n",
       "\n",
       "    .dataframe thead th {\n",
       "        text-align: right;\n",
       "    }\n",
       "</style>\n",
       "<table border=\"1\" class=\"dataframe\">\n",
       "  <thead>\n",
       "    <tr style=\"text-align: right;\">\n",
       "      <th></th>\n",
       "      <th>Loan_ID</th>\n",
       "      <th>Gender</th>\n",
       "      <th>Married</th>\n",
       "      <th>Dependents</th>\n",
       "      <th>Education</th>\n",
       "      <th>Self_Employed</th>\n",
       "      <th>ApplicantIncome</th>\n",
       "      <th>CoapplicantIncome</th>\n",
       "      <th>LoanAmount</th>\n",
       "      <th>Loan_Amount_Term</th>\n",
       "      <th>Credit_History</th>\n",
       "      <th>Property_Area</th>\n",
       "      <th>Loan_Status</th>\n",
       "    </tr>\n",
       "  </thead>\n",
       "  <tbody>\n",
       "    <tr>\n",
       "      <th>0</th>\n",
       "      <td>LP001002</td>\n",
       "      <td>Male</td>\n",
       "      <td>No</td>\n",
       "      <td>0</td>\n",
       "      <td>Graduate</td>\n",
       "      <td>No</td>\n",
       "      <td>0.05849</td>\n",
       "      <td>0.00000</td>\n",
       "      <td>0.198860</td>\n",
       "      <td>0.659091</td>\n",
       "      <td>1</td>\n",
       "      <td>Urban</td>\n",
       "      <td>Y</td>\n",
       "    </tr>\n",
       "    <tr>\n",
       "      <th>1</th>\n",
       "      <td>LP001003</td>\n",
       "      <td>Male</td>\n",
       "      <td>Yes</td>\n",
       "      <td>1</td>\n",
       "      <td>Graduate</td>\n",
       "      <td>No</td>\n",
       "      <td>0.04583</td>\n",
       "      <td>0.01508</td>\n",
       "      <td>0.172214</td>\n",
       "      <td>0.659091</td>\n",
       "      <td>1</td>\n",
       "      <td>Rural</td>\n",
       "      <td>N</td>\n",
       "    </tr>\n",
       "    <tr>\n",
       "      <th>2</th>\n",
       "      <td>LP001005</td>\n",
       "      <td>Male</td>\n",
       "      <td>Yes</td>\n",
       "      <td>0</td>\n",
       "      <td>Graduate</td>\n",
       "      <td>Yes</td>\n",
       "      <td>0.03000</td>\n",
       "      <td>0.00000</td>\n",
       "      <td>0.082489</td>\n",
       "      <td>0.659091</td>\n",
       "      <td>1</td>\n",
       "      <td>Urban</td>\n",
       "      <td>Y</td>\n",
       "    </tr>\n",
       "    <tr>\n",
       "      <th>3</th>\n",
       "      <td>LP001006</td>\n",
       "      <td>Male</td>\n",
       "      <td>Yes</td>\n",
       "      <td>0</td>\n",
       "      <td>Not Graduate</td>\n",
       "      <td>No</td>\n",
       "      <td>0.02583</td>\n",
       "      <td>0.02358</td>\n",
       "      <td>0.160637</td>\n",
       "      <td>0.659091</td>\n",
       "      <td>1</td>\n",
       "      <td>Urban</td>\n",
       "      <td>Y</td>\n",
       "    </tr>\n",
       "    <tr>\n",
       "      <th>4</th>\n",
       "      <td>LP001008</td>\n",
       "      <td>Male</td>\n",
       "      <td>No</td>\n",
       "      <td>0</td>\n",
       "      <td>Graduate</td>\n",
       "      <td>No</td>\n",
       "      <td>0.06000</td>\n",
       "      <td>0.00000</td>\n",
       "      <td>0.191027</td>\n",
       "      <td>0.659091</td>\n",
       "      <td>1</td>\n",
       "      <td>Urban</td>\n",
       "      <td>Y</td>\n",
       "    </tr>\n",
       "  </tbody>\n",
       "</table>\n",
       "</div>"
      ],
      "text/plain": [
       "    Loan_ID Gender Married Dependents     Education Self_Employed  \\\n",
       "0  LP001002   Male      No          0      Graduate            No   \n",
       "1  LP001003   Male     Yes          1      Graduate            No   \n",
       "2  LP001005   Male     Yes          0      Graduate           Yes   \n",
       "3  LP001006   Male     Yes          0  Not Graduate            No   \n",
       "4  LP001008   Male      No          0      Graduate            No   \n",
       "\n",
       "   ApplicantIncome  CoapplicantIncome  LoanAmount  Loan_Amount_Term  \\\n",
       "0          0.05849            0.00000    0.198860          0.659091   \n",
       "1          0.04583            0.01508    0.172214          0.659091   \n",
       "2          0.03000            0.00000    0.082489          0.659091   \n",
       "3          0.02583            0.02358    0.160637          0.659091   \n",
       "4          0.06000            0.00000    0.191027          0.659091   \n",
       "\n",
       "   Credit_History Property_Area Loan_Status  \n",
       "0               1         Urban           Y  \n",
       "1               1         Rural           N  \n",
       "2               1         Urban           Y  \n",
       "3               1         Urban           Y  \n",
       "4               1         Urban           Y  "
      ]
     },
     "execution_count": 34,
     "metadata": {},
     "output_type": "execute_result"
    }
   ],
   "source": [
    "df.head()"
   ]
  },
  {
   "cell_type": "code",
   "execution_count": 35,
   "id": "27ca2960",
   "metadata": {},
   "outputs": [
    {
     "data": {
      "text/plain": [
       "614"
      ]
     },
     "execution_count": 35,
     "metadata": {},
     "output_type": "execute_result"
    }
   ],
   "source": [
    "len(df)"
   ]
  },
  {
   "cell_type": "markdown",
   "id": "3b11139e",
   "metadata": {},
   "source": [
    "----------------------------"
   ]
  },
  {
   "cell_type": "code",
   "execution_count": 36,
   "id": "06fde9f3",
   "metadata": {},
   "outputs": [],
   "source": [
    "df_loan = df.drop(['Loan_ID'], axis = 1)"
   ]
  },
  {
   "cell_type": "code",
   "execution_count": 37,
   "id": "a0c52c50",
   "metadata": {},
   "outputs": [
    {
     "data": {
      "text/html": [
       "<div>\n",
       "<style scoped>\n",
       "    .dataframe tbody tr th:only-of-type {\n",
       "        vertical-align: middle;\n",
       "    }\n",
       "\n",
       "    .dataframe tbody tr th {\n",
       "        vertical-align: top;\n",
       "    }\n",
       "\n",
       "    .dataframe thead th {\n",
       "        text-align: right;\n",
       "    }\n",
       "</style>\n",
       "<table border=\"1\" class=\"dataframe\">\n",
       "  <thead>\n",
       "    <tr style=\"text-align: right;\">\n",
       "      <th></th>\n",
       "      <th>Gender</th>\n",
       "      <th>Married</th>\n",
       "      <th>Dependents</th>\n",
       "      <th>Education</th>\n",
       "      <th>Self_Employed</th>\n",
       "      <th>ApplicantIncome</th>\n",
       "      <th>CoapplicantIncome</th>\n",
       "      <th>LoanAmount</th>\n",
       "      <th>Loan_Amount_Term</th>\n",
       "      <th>Credit_History</th>\n",
       "      <th>Property_Area</th>\n",
       "      <th>Loan_Status</th>\n",
       "    </tr>\n",
       "  </thead>\n",
       "  <tbody>\n",
       "    <tr>\n",
       "      <th>0</th>\n",
       "      <td>Male</td>\n",
       "      <td>No</td>\n",
       "      <td>0</td>\n",
       "      <td>Graduate</td>\n",
       "      <td>No</td>\n",
       "      <td>0.05849</td>\n",
       "      <td>0.00000</td>\n",
       "      <td>0.198860</td>\n",
       "      <td>0.659091</td>\n",
       "      <td>1</td>\n",
       "      <td>Urban</td>\n",
       "      <td>Y</td>\n",
       "    </tr>\n",
       "    <tr>\n",
       "      <th>1</th>\n",
       "      <td>Male</td>\n",
       "      <td>Yes</td>\n",
       "      <td>1</td>\n",
       "      <td>Graduate</td>\n",
       "      <td>No</td>\n",
       "      <td>0.04583</td>\n",
       "      <td>0.01508</td>\n",
       "      <td>0.172214</td>\n",
       "      <td>0.659091</td>\n",
       "      <td>1</td>\n",
       "      <td>Rural</td>\n",
       "      <td>N</td>\n",
       "    </tr>\n",
       "    <tr>\n",
       "      <th>2</th>\n",
       "      <td>Male</td>\n",
       "      <td>Yes</td>\n",
       "      <td>0</td>\n",
       "      <td>Graduate</td>\n",
       "      <td>Yes</td>\n",
       "      <td>0.03000</td>\n",
       "      <td>0.00000</td>\n",
       "      <td>0.082489</td>\n",
       "      <td>0.659091</td>\n",
       "      <td>1</td>\n",
       "      <td>Urban</td>\n",
       "      <td>Y</td>\n",
       "    </tr>\n",
       "    <tr>\n",
       "      <th>3</th>\n",
       "      <td>Male</td>\n",
       "      <td>Yes</td>\n",
       "      <td>0</td>\n",
       "      <td>Not Graduate</td>\n",
       "      <td>No</td>\n",
       "      <td>0.02583</td>\n",
       "      <td>0.02358</td>\n",
       "      <td>0.160637</td>\n",
       "      <td>0.659091</td>\n",
       "      <td>1</td>\n",
       "      <td>Urban</td>\n",
       "      <td>Y</td>\n",
       "    </tr>\n",
       "    <tr>\n",
       "      <th>4</th>\n",
       "      <td>Male</td>\n",
       "      <td>No</td>\n",
       "      <td>0</td>\n",
       "      <td>Graduate</td>\n",
       "      <td>No</td>\n",
       "      <td>0.06000</td>\n",
       "      <td>0.00000</td>\n",
       "      <td>0.191027</td>\n",
       "      <td>0.659091</td>\n",
       "      <td>1</td>\n",
       "      <td>Urban</td>\n",
       "      <td>Y</td>\n",
       "    </tr>\n",
       "    <tr>\n",
       "      <th>...</th>\n",
       "      <td>...</td>\n",
       "      <td>...</td>\n",
       "      <td>...</td>\n",
       "      <td>...</td>\n",
       "      <td>...</td>\n",
       "      <td>...</td>\n",
       "      <td>...</td>\n",
       "      <td>...</td>\n",
       "      <td>...</td>\n",
       "      <td>...</td>\n",
       "      <td>...</td>\n",
       "      <td>...</td>\n",
       "    </tr>\n",
       "    <tr>\n",
       "      <th>609</th>\n",
       "      <td>Female</td>\n",
       "      <td>No</td>\n",
       "      <td>0</td>\n",
       "      <td>Graduate</td>\n",
       "      <td>No</td>\n",
       "      <td>0.02900</td>\n",
       "      <td>0.00000</td>\n",
       "      <td>0.089725</td>\n",
       "      <td>0.659091</td>\n",
       "      <td>1</td>\n",
       "      <td>Rural</td>\n",
       "      <td>Y</td>\n",
       "    </tr>\n",
       "    <tr>\n",
       "      <th>610</th>\n",
       "      <td>Male</td>\n",
       "      <td>Yes</td>\n",
       "      <td>3+</td>\n",
       "      <td>Graduate</td>\n",
       "      <td>No</td>\n",
       "      <td>0.04106</td>\n",
       "      <td>0.00000</td>\n",
       "      <td>0.044863</td>\n",
       "      <td>0.318182</td>\n",
       "      <td>1</td>\n",
       "      <td>Rural</td>\n",
       "      <td>Y</td>\n",
       "    </tr>\n",
       "    <tr>\n",
       "      <th>611</th>\n",
       "      <td>Male</td>\n",
       "      <td>Yes</td>\n",
       "      <td>1</td>\n",
       "      <td>Graduate</td>\n",
       "      <td>No</td>\n",
       "      <td>0.08072</td>\n",
       "      <td>0.00240</td>\n",
       "      <td>0.353111</td>\n",
       "      <td>0.659091</td>\n",
       "      <td>1</td>\n",
       "      <td>Urban</td>\n",
       "      <td>Y</td>\n",
       "    </tr>\n",
       "    <tr>\n",
       "      <th>612</th>\n",
       "      <td>Male</td>\n",
       "      <td>Yes</td>\n",
       "      <td>2</td>\n",
       "      <td>Graduate</td>\n",
       "      <td>No</td>\n",
       "      <td>0.07583</td>\n",
       "      <td>0.00000</td>\n",
       "      <td>0.257598</td>\n",
       "      <td>0.659091</td>\n",
       "      <td>1</td>\n",
       "      <td>Urban</td>\n",
       "      <td>Y</td>\n",
       "    </tr>\n",
       "    <tr>\n",
       "      <th>613</th>\n",
       "      <td>Female</td>\n",
       "      <td>No</td>\n",
       "      <td>0</td>\n",
       "      <td>Graduate</td>\n",
       "      <td>Yes</td>\n",
       "      <td>0.04583</td>\n",
       "      <td>0.00000</td>\n",
       "      <td>0.179450</td>\n",
       "      <td>0.659091</td>\n",
       "      <td>0</td>\n",
       "      <td>Semiurban</td>\n",
       "      <td>N</td>\n",
       "    </tr>\n",
       "  </tbody>\n",
       "</table>\n",
       "<p>614 rows × 12 columns</p>\n",
       "</div>"
      ],
      "text/plain": [
       "     Gender Married Dependents     Education Self_Employed  ApplicantIncome  \\\n",
       "0      Male      No          0      Graduate            No          0.05849   \n",
       "1      Male     Yes          1      Graduate            No          0.04583   \n",
       "2      Male     Yes          0      Graduate           Yes          0.03000   \n",
       "3      Male     Yes          0  Not Graduate            No          0.02583   \n",
       "4      Male      No          0      Graduate            No          0.06000   \n",
       "..      ...     ...        ...           ...           ...              ...   \n",
       "609  Female      No          0      Graduate            No          0.02900   \n",
       "610    Male     Yes         3+      Graduate            No          0.04106   \n",
       "611    Male     Yes          1      Graduate            No          0.08072   \n",
       "612    Male     Yes          2      Graduate            No          0.07583   \n",
       "613  Female      No          0      Graduate           Yes          0.04583   \n",
       "\n",
       "     CoapplicantIncome  LoanAmount  Loan_Amount_Term  Credit_History  \\\n",
       "0              0.00000    0.198860          0.659091               1   \n",
       "1              0.01508    0.172214          0.659091               1   \n",
       "2              0.00000    0.082489          0.659091               1   \n",
       "3              0.02358    0.160637          0.659091               1   \n",
       "4              0.00000    0.191027          0.659091               1   \n",
       "..                 ...         ...               ...             ...   \n",
       "609            0.00000    0.089725          0.659091               1   \n",
       "610            0.00000    0.044863          0.318182               1   \n",
       "611            0.00240    0.353111          0.659091               1   \n",
       "612            0.00000    0.257598          0.659091               1   \n",
       "613            0.00000    0.179450          0.659091               0   \n",
       "\n",
       "    Property_Area Loan_Status  \n",
       "0           Urban           Y  \n",
       "1           Rural           N  \n",
       "2           Urban           Y  \n",
       "3           Urban           Y  \n",
       "4           Urban           Y  \n",
       "..            ...         ...  \n",
       "609         Rural           Y  \n",
       "610         Rural           Y  \n",
       "611         Urban           Y  \n",
       "612         Urban           Y  \n",
       "613     Semiurban           N  \n",
       "\n",
       "[614 rows x 12 columns]"
      ]
     },
     "execution_count": 37,
     "metadata": {},
     "output_type": "execute_result"
    }
   ],
   "source": [
    "df_loan"
   ]
  },
  {
   "cell_type": "code",
   "execution_count": 38,
   "id": "d6e4d7ac",
   "metadata": {},
   "outputs": [
    {
     "data": {
      "text/plain": [
       "['Gender', 'Married', 'Education', 'Self_Employed', 'Loan_Status']"
      ]
     },
     "execution_count": 38,
     "metadata": {},
     "output_type": "execute_result"
    }
   ],
   "source": [
    "cat_columns_to_encode = [col for col in df_loan.select_dtypes(include=['object']).columns \n",
    "                         if col not in ['Dependents', 'Property_Area']]\n",
    "cat_columns_to_encode"
   ]
  },
  {
   "cell_type": "code",
   "execution_count": 39,
   "id": "98b76ca2",
   "metadata": {},
   "outputs": [],
   "source": [
    "label_encoder = LabelEncoder()\n",
    "\n",
    "# Loop through each column and encode values from 1 to 3\n",
    "for column in cat_columns_to_encode:\n",
    "    encoded_values = label_encoder.fit_transform(df_loan[column]) \n",
    "    df_loan[column] = encoded_values"
   ]
  },
  {
   "cell_type": "code",
   "execution_count": 40,
   "id": "2c2f9447",
   "metadata": {},
   "outputs": [
    {
     "data": {
      "text/html": [
       "<div>\n",
       "<style scoped>\n",
       "    .dataframe tbody tr th:only-of-type {\n",
       "        vertical-align: middle;\n",
       "    }\n",
       "\n",
       "    .dataframe tbody tr th {\n",
       "        vertical-align: top;\n",
       "    }\n",
       "\n",
       "    .dataframe thead th {\n",
       "        text-align: right;\n",
       "    }\n",
       "</style>\n",
       "<table border=\"1\" class=\"dataframe\">\n",
       "  <thead>\n",
       "    <tr style=\"text-align: right;\">\n",
       "      <th></th>\n",
       "      <th>Gender</th>\n",
       "      <th>Married</th>\n",
       "      <th>Dependents</th>\n",
       "      <th>Education</th>\n",
       "      <th>Self_Employed</th>\n",
       "      <th>ApplicantIncome</th>\n",
       "      <th>CoapplicantIncome</th>\n",
       "      <th>LoanAmount</th>\n",
       "      <th>Loan_Amount_Term</th>\n",
       "      <th>Credit_History</th>\n",
       "      <th>Property_Area</th>\n",
       "      <th>Loan_Status</th>\n",
       "    </tr>\n",
       "  </thead>\n",
       "  <tbody>\n",
       "    <tr>\n",
       "      <th>0</th>\n",
       "      <td>1</td>\n",
       "      <td>0</td>\n",
       "      <td>0</td>\n",
       "      <td>0</td>\n",
       "      <td>0</td>\n",
       "      <td>0.05849</td>\n",
       "      <td>0.00000</td>\n",
       "      <td>0.198860</td>\n",
       "      <td>0.659091</td>\n",
       "      <td>1</td>\n",
       "      <td>Urban</td>\n",
       "      <td>1</td>\n",
       "    </tr>\n",
       "    <tr>\n",
       "      <th>1</th>\n",
       "      <td>1</td>\n",
       "      <td>1</td>\n",
       "      <td>1</td>\n",
       "      <td>0</td>\n",
       "      <td>0</td>\n",
       "      <td>0.04583</td>\n",
       "      <td>0.01508</td>\n",
       "      <td>0.172214</td>\n",
       "      <td>0.659091</td>\n",
       "      <td>1</td>\n",
       "      <td>Rural</td>\n",
       "      <td>0</td>\n",
       "    </tr>\n",
       "    <tr>\n",
       "      <th>2</th>\n",
       "      <td>1</td>\n",
       "      <td>1</td>\n",
       "      <td>0</td>\n",
       "      <td>0</td>\n",
       "      <td>1</td>\n",
       "      <td>0.03000</td>\n",
       "      <td>0.00000</td>\n",
       "      <td>0.082489</td>\n",
       "      <td>0.659091</td>\n",
       "      <td>1</td>\n",
       "      <td>Urban</td>\n",
       "      <td>1</td>\n",
       "    </tr>\n",
       "    <tr>\n",
       "      <th>3</th>\n",
       "      <td>1</td>\n",
       "      <td>1</td>\n",
       "      <td>0</td>\n",
       "      <td>1</td>\n",
       "      <td>0</td>\n",
       "      <td>0.02583</td>\n",
       "      <td>0.02358</td>\n",
       "      <td>0.160637</td>\n",
       "      <td>0.659091</td>\n",
       "      <td>1</td>\n",
       "      <td>Urban</td>\n",
       "      <td>1</td>\n",
       "    </tr>\n",
       "    <tr>\n",
       "      <th>4</th>\n",
       "      <td>1</td>\n",
       "      <td>0</td>\n",
       "      <td>0</td>\n",
       "      <td>0</td>\n",
       "      <td>0</td>\n",
       "      <td>0.06000</td>\n",
       "      <td>0.00000</td>\n",
       "      <td>0.191027</td>\n",
       "      <td>0.659091</td>\n",
       "      <td>1</td>\n",
       "      <td>Urban</td>\n",
       "      <td>1</td>\n",
       "    </tr>\n",
       "    <tr>\n",
       "      <th>...</th>\n",
       "      <td>...</td>\n",
       "      <td>...</td>\n",
       "      <td>...</td>\n",
       "      <td>...</td>\n",
       "      <td>...</td>\n",
       "      <td>...</td>\n",
       "      <td>...</td>\n",
       "      <td>...</td>\n",
       "      <td>...</td>\n",
       "      <td>...</td>\n",
       "      <td>...</td>\n",
       "      <td>...</td>\n",
       "    </tr>\n",
       "    <tr>\n",
       "      <th>609</th>\n",
       "      <td>0</td>\n",
       "      <td>0</td>\n",
       "      <td>0</td>\n",
       "      <td>0</td>\n",
       "      <td>0</td>\n",
       "      <td>0.02900</td>\n",
       "      <td>0.00000</td>\n",
       "      <td>0.089725</td>\n",
       "      <td>0.659091</td>\n",
       "      <td>1</td>\n",
       "      <td>Rural</td>\n",
       "      <td>1</td>\n",
       "    </tr>\n",
       "    <tr>\n",
       "      <th>610</th>\n",
       "      <td>1</td>\n",
       "      <td>1</td>\n",
       "      <td>3+</td>\n",
       "      <td>0</td>\n",
       "      <td>0</td>\n",
       "      <td>0.04106</td>\n",
       "      <td>0.00000</td>\n",
       "      <td>0.044863</td>\n",
       "      <td>0.318182</td>\n",
       "      <td>1</td>\n",
       "      <td>Rural</td>\n",
       "      <td>1</td>\n",
       "    </tr>\n",
       "    <tr>\n",
       "      <th>611</th>\n",
       "      <td>1</td>\n",
       "      <td>1</td>\n",
       "      <td>1</td>\n",
       "      <td>0</td>\n",
       "      <td>0</td>\n",
       "      <td>0.08072</td>\n",
       "      <td>0.00240</td>\n",
       "      <td>0.353111</td>\n",
       "      <td>0.659091</td>\n",
       "      <td>1</td>\n",
       "      <td>Urban</td>\n",
       "      <td>1</td>\n",
       "    </tr>\n",
       "    <tr>\n",
       "      <th>612</th>\n",
       "      <td>1</td>\n",
       "      <td>1</td>\n",
       "      <td>2</td>\n",
       "      <td>0</td>\n",
       "      <td>0</td>\n",
       "      <td>0.07583</td>\n",
       "      <td>0.00000</td>\n",
       "      <td>0.257598</td>\n",
       "      <td>0.659091</td>\n",
       "      <td>1</td>\n",
       "      <td>Urban</td>\n",
       "      <td>1</td>\n",
       "    </tr>\n",
       "    <tr>\n",
       "      <th>613</th>\n",
       "      <td>0</td>\n",
       "      <td>0</td>\n",
       "      <td>0</td>\n",
       "      <td>0</td>\n",
       "      <td>1</td>\n",
       "      <td>0.04583</td>\n",
       "      <td>0.00000</td>\n",
       "      <td>0.179450</td>\n",
       "      <td>0.659091</td>\n",
       "      <td>0</td>\n",
       "      <td>Semiurban</td>\n",
       "      <td>0</td>\n",
       "    </tr>\n",
       "  </tbody>\n",
       "</table>\n",
       "<p>614 rows × 12 columns</p>\n",
       "</div>"
      ],
      "text/plain": [
       "     Gender  Married Dependents  Education  Self_Employed  ApplicantIncome  \\\n",
       "0         1        0          0          0              0          0.05849   \n",
       "1         1        1          1          0              0          0.04583   \n",
       "2         1        1          0          0              1          0.03000   \n",
       "3         1        1          0          1              0          0.02583   \n",
       "4         1        0          0          0              0          0.06000   \n",
       "..      ...      ...        ...        ...            ...              ...   \n",
       "609       0        0          0          0              0          0.02900   \n",
       "610       1        1         3+          0              0          0.04106   \n",
       "611       1        1          1          0              0          0.08072   \n",
       "612       1        1          2          0              0          0.07583   \n",
       "613       0        0          0          0              1          0.04583   \n",
       "\n",
       "     CoapplicantIncome  LoanAmount  Loan_Amount_Term  Credit_History  \\\n",
       "0              0.00000    0.198860          0.659091               1   \n",
       "1              0.01508    0.172214          0.659091               1   \n",
       "2              0.00000    0.082489          0.659091               1   \n",
       "3              0.02358    0.160637          0.659091               1   \n",
       "4              0.00000    0.191027          0.659091               1   \n",
       "..                 ...         ...               ...             ...   \n",
       "609            0.00000    0.089725          0.659091               1   \n",
       "610            0.00000    0.044863          0.318182               1   \n",
       "611            0.00240    0.353111          0.659091               1   \n",
       "612            0.00000    0.257598          0.659091               1   \n",
       "613            0.00000    0.179450          0.659091               0   \n",
       "\n",
       "    Property_Area  Loan_Status  \n",
       "0           Urban            1  \n",
       "1           Rural            0  \n",
       "2           Urban            1  \n",
       "3           Urban            1  \n",
       "4           Urban            1  \n",
       "..            ...          ...  \n",
       "609         Rural            1  \n",
       "610         Rural            1  \n",
       "611         Urban            1  \n",
       "612         Urban            1  \n",
       "613     Semiurban            0  \n",
       "\n",
       "[614 rows x 12 columns]"
      ]
     },
     "execution_count": 40,
     "metadata": {},
     "output_type": "execute_result"
    }
   ],
   "source": [
    "df_loan"
   ]
  },
  {
   "cell_type": "code",
   "execution_count": 41,
   "id": "e35b97ef",
   "metadata": {},
   "outputs": [
    {
     "name": "stdout",
     "output_type": "stream",
     "text": [
      "<class 'pandas.core.frame.DataFrame'>\n",
      "RangeIndex: 614 entries, 0 to 613\n",
      "Data columns (total 12 columns):\n",
      " #   Column             Non-Null Count  Dtype  \n",
      "---  ------             --------------  -----  \n",
      " 0   Gender             614 non-null    int32  \n",
      " 1   Married            614 non-null    int32  \n",
      " 2   Dependents         599 non-null    object \n",
      " 3   Education          614 non-null    int32  \n",
      " 4   Self_Employed      614 non-null    int32  \n",
      " 5   ApplicantIncome    614 non-null    float64\n",
      " 6   CoapplicantIncome  614 non-null    float64\n",
      " 7   LoanAmount         614 non-null    float64\n",
      " 8   Loan_Amount_Term   614 non-null    float64\n",
      " 9   Credit_History     614 non-null    int64  \n",
      " 10  Property_Area      614 non-null    object \n",
      " 11  Loan_Status        614 non-null    int32  \n",
      "dtypes: float64(4), int32(5), int64(1), object(2)\n",
      "memory usage: 45.7+ KB\n"
     ]
    }
   ],
   "source": [
    "df_loan.info()"
   ]
  },
  {
   "cell_type": "code",
   "execution_count": 42,
   "id": "5dce1226",
   "metadata": {},
   "outputs": [],
   "source": [
    "categorical_columns = df_loan.select_dtypes(include=['object']).columns\n",
    "encoded_df = pd.get_dummies(df_loan, columns=categorical_columns)"
   ]
  },
  {
   "cell_type": "markdown",
   "id": "f2c67f60",
   "metadata": {},
   "source": [
    "---------------------------------------------"
   ]
  },
  {
   "cell_type": "code",
   "execution_count": 43,
   "id": "d6370270",
   "metadata": {},
   "outputs": [],
   "source": [
    "Final_Loan_df=encoded_df.copy()"
   ]
  },
  {
   "cell_type": "code",
   "execution_count": 44,
   "id": "93e26b2d",
   "metadata": {},
   "outputs": [
    {
     "data": {
      "text/html": [
       "<div>\n",
       "<style scoped>\n",
       "    .dataframe tbody tr th:only-of-type {\n",
       "        vertical-align: middle;\n",
       "    }\n",
       "\n",
       "    .dataframe tbody tr th {\n",
       "        vertical-align: top;\n",
       "    }\n",
       "\n",
       "    .dataframe thead th {\n",
       "        text-align: right;\n",
       "    }\n",
       "</style>\n",
       "<table border=\"1\" class=\"dataframe\">\n",
       "  <thead>\n",
       "    <tr style=\"text-align: right;\">\n",
       "      <th></th>\n",
       "      <th>Gender</th>\n",
       "      <th>Married</th>\n",
       "      <th>Education</th>\n",
       "      <th>Self_Employed</th>\n",
       "      <th>ApplicantIncome</th>\n",
       "      <th>CoapplicantIncome</th>\n",
       "      <th>LoanAmount</th>\n",
       "      <th>Loan_Amount_Term</th>\n",
       "      <th>Credit_History</th>\n",
       "      <th>Loan_Status</th>\n",
       "      <th>Dependents_0</th>\n",
       "      <th>Dependents_1</th>\n",
       "      <th>Dependents_2</th>\n",
       "      <th>Dependents_3+</th>\n",
       "      <th>Property_Area_Rural</th>\n",
       "      <th>Property_Area_Semiurban</th>\n",
       "      <th>Property_Area_Urban</th>\n",
       "    </tr>\n",
       "  </thead>\n",
       "  <tbody>\n",
       "    <tr>\n",
       "      <th>0</th>\n",
       "      <td>1</td>\n",
       "      <td>0</td>\n",
       "      <td>0</td>\n",
       "      <td>0</td>\n",
       "      <td>0.05849</td>\n",
       "      <td>0.00000</td>\n",
       "      <td>0.198860</td>\n",
       "      <td>0.659091</td>\n",
       "      <td>1</td>\n",
       "      <td>1</td>\n",
       "      <td>1</td>\n",
       "      <td>0</td>\n",
       "      <td>0</td>\n",
       "      <td>0</td>\n",
       "      <td>0</td>\n",
       "      <td>0</td>\n",
       "      <td>1</td>\n",
       "    </tr>\n",
       "    <tr>\n",
       "      <th>1</th>\n",
       "      <td>1</td>\n",
       "      <td>1</td>\n",
       "      <td>0</td>\n",
       "      <td>0</td>\n",
       "      <td>0.04583</td>\n",
       "      <td>0.01508</td>\n",
       "      <td>0.172214</td>\n",
       "      <td>0.659091</td>\n",
       "      <td>1</td>\n",
       "      <td>0</td>\n",
       "      <td>0</td>\n",
       "      <td>1</td>\n",
       "      <td>0</td>\n",
       "      <td>0</td>\n",
       "      <td>1</td>\n",
       "      <td>0</td>\n",
       "      <td>0</td>\n",
       "    </tr>\n",
       "    <tr>\n",
       "      <th>2</th>\n",
       "      <td>1</td>\n",
       "      <td>1</td>\n",
       "      <td>0</td>\n",
       "      <td>1</td>\n",
       "      <td>0.03000</td>\n",
       "      <td>0.00000</td>\n",
       "      <td>0.082489</td>\n",
       "      <td>0.659091</td>\n",
       "      <td>1</td>\n",
       "      <td>1</td>\n",
       "      <td>1</td>\n",
       "      <td>0</td>\n",
       "      <td>0</td>\n",
       "      <td>0</td>\n",
       "      <td>0</td>\n",
       "      <td>0</td>\n",
       "      <td>1</td>\n",
       "    </tr>\n",
       "    <tr>\n",
       "      <th>3</th>\n",
       "      <td>1</td>\n",
       "      <td>1</td>\n",
       "      <td>1</td>\n",
       "      <td>0</td>\n",
       "      <td>0.02583</td>\n",
       "      <td>0.02358</td>\n",
       "      <td>0.160637</td>\n",
       "      <td>0.659091</td>\n",
       "      <td>1</td>\n",
       "      <td>1</td>\n",
       "      <td>1</td>\n",
       "      <td>0</td>\n",
       "      <td>0</td>\n",
       "      <td>0</td>\n",
       "      <td>0</td>\n",
       "      <td>0</td>\n",
       "      <td>1</td>\n",
       "    </tr>\n",
       "    <tr>\n",
       "      <th>4</th>\n",
       "      <td>1</td>\n",
       "      <td>0</td>\n",
       "      <td>0</td>\n",
       "      <td>0</td>\n",
       "      <td>0.06000</td>\n",
       "      <td>0.00000</td>\n",
       "      <td>0.191027</td>\n",
       "      <td>0.659091</td>\n",
       "      <td>1</td>\n",
       "      <td>1</td>\n",
       "      <td>1</td>\n",
       "      <td>0</td>\n",
       "      <td>0</td>\n",
       "      <td>0</td>\n",
       "      <td>0</td>\n",
       "      <td>0</td>\n",
       "      <td>1</td>\n",
       "    </tr>\n",
       "  </tbody>\n",
       "</table>\n",
       "</div>"
      ],
      "text/plain": [
       "   Gender  Married  Education  Self_Employed  ApplicantIncome  \\\n",
       "0       1        0          0              0          0.05849   \n",
       "1       1        1          0              0          0.04583   \n",
       "2       1        1          0              1          0.03000   \n",
       "3       1        1          1              0          0.02583   \n",
       "4       1        0          0              0          0.06000   \n",
       "\n",
       "   CoapplicantIncome  LoanAmount  Loan_Amount_Term  Credit_History  \\\n",
       "0            0.00000    0.198860          0.659091               1   \n",
       "1            0.01508    0.172214          0.659091               1   \n",
       "2            0.00000    0.082489          0.659091               1   \n",
       "3            0.02358    0.160637          0.659091               1   \n",
       "4            0.00000    0.191027          0.659091               1   \n",
       "\n",
       "   Loan_Status  Dependents_0  Dependents_1  Dependents_2  Dependents_3+  \\\n",
       "0            1             1             0             0              0   \n",
       "1            0             0             1             0              0   \n",
       "2            1             1             0             0              0   \n",
       "3            1             1             0             0              0   \n",
       "4            1             1             0             0              0   \n",
       "\n",
       "   Property_Area_Rural  Property_Area_Semiurban  Property_Area_Urban  \n",
       "0                    0                        0                    1  \n",
       "1                    1                        0                    0  \n",
       "2                    0                        0                    1  \n",
       "3                    0                        0                    1  \n",
       "4                    0                        0                    1  "
      ]
     },
     "execution_count": 44,
     "metadata": {},
     "output_type": "execute_result"
    }
   ],
   "source": [
    "Final_Loan_df.head()"
   ]
  },
  {
   "cell_type": "code",
   "execution_count": 45,
   "id": "e680a2a6",
   "metadata": {},
   "outputs": [],
   "source": [
    "feature_list=['ApplicantIncome','CoapplicantIncome','LoanAmount','Loan_Amount_Term','Credit_History',\n",
    "                'Gender',\n",
    "                'Married',\n",
    "                'Dependents_0',\n",
    "                'Dependents_1',\n",
    "                'Dependents_2',\n",
    "                'Dependents_3+',\n",
    "                'Education',\n",
    "                'Self_Employed',\n",
    "                'Property_Area_Rural',\n",
    "                'Property_Area_Urban',\n",
    "                'Property_Area_Semiurban','Loan_Status'] \n",
    "\n",
    "Final_Loan_df=Final_Loan_df[feature_list]"
   ]
  },
  {
   "cell_type": "code",
   "execution_count": 54,
   "id": "89bfbf45",
   "metadata": {},
   "outputs": [
    {
     "data": {
      "text/plain": [
       "array([[0.05849   , 0.        , 0.19885986, ..., 0.        , 1.        ,\n",
       "        0.        ],\n",
       "       [0.04583   , 0.01508   , 0.17221418, ..., 1.        , 0.        ,\n",
       "        0.        ],\n",
       "       [0.03      , 0.        , 0.08248915, ..., 0.        , 1.        ,\n",
       "        0.        ],\n",
       "       ...,\n",
       "       [0.08072   , 0.0024    , 0.35311143, ..., 0.        , 1.        ,\n",
       "        0.        ],\n",
       "       [0.07583   , 0.        , 0.25759768, ..., 0.        , 1.        ,\n",
       "        0.        ],\n",
       "       [0.04583   , 0.        , 0.17945007, ..., 0.        , 0.        ,\n",
       "        1.        ]])"
      ]
     },
     "execution_count": 54,
     "metadata": {},
     "output_type": "execute_result"
    }
   ],
   "source": []
  },
  {
   "cell_type": "code",
   "execution_count": 55,
   "id": "dc74045e",
   "metadata": {},
   "outputs": [],
   "source": [
    "y = Final_Loan_df.Loan_Status\n",
    "\n",
    "loan_predictors = Final_Loan_df.drop(['Loan_Status'], axis=1)\n",
    "X = loan_predictors.select_dtypes(exclude=['object'])\n",
    "\n",
    "X_train, X_valid, y_train, y_valid = train_test_split(X.values, y.values, train_size=0.8, test_size=0.2,\n",
    "                                                      random_state=0)"
   ]
  },
  {
   "cell_type": "code",
   "execution_count": 56,
   "id": "b2fa229d",
   "metadata": {},
   "outputs": [],
   "source": [
    "def score_dataset(X_train, X_valid, y_train, y_valid):\n",
    "    model = LogisticRegression()\n",
    "    model.fit(X_train, y_train)\n",
    "    preds = model.predict(X_valid)\n",
    "    print(preds)\n",
    "    return mean_absolute_error(y_valid, preds)"
   ]
  },
  {
   "cell_type": "code",
   "execution_count": 57,
   "id": "534d8d08",
   "metadata": {},
   "outputs": [
    {
     "name": "stdout",
     "output_type": "stream",
     "text": [
      "[1 1 1 1 1 0 1 1 0 1 1 1 1 1 1 1 1 1 1 0 0 1 1 1 1 1 1 1 0 0 1 1 1 1 1 0 1\n",
      " 1 1 1 1 0 1 1 1 1 1 1 1 1 1 1 1 1 1 1 1 1 1 1 0 1 1 0 1 1 1 1 1 1 1 1 1 1\n",
      " 1 1 1 1 1 0 1 1 1 1 1 1 1 1 1 1 1 1 1 0 1 0 1 1 1 1 1 1 1 1 1 1 1 1 1 1 1\n",
      " 1 1 1 0 0 1 1 1 1 1 0 1]\n",
      "0.17073170731707318\n"
     ]
    }
   ],
   "source": [
    "print(score_dataset(X_train,X_valid, y_train, y_valid))"
   ]
  },
  {
   "cell_type": "code",
   "execution_count": 58,
   "id": "968e765c",
   "metadata": {},
   "outputs": [
    {
     "name": "stdout",
     "output_type": "stream",
     "text": [
      "Cross-validation scores: [0.81300813 0.7804878  0.7804878  0.85365854 0.81967213]\n",
      "Mean accuracy: 80.95\n"
     ]
    }
   ],
   "source": [
    "#perform cross validation:\n",
    "model = LogisticRegression()\n",
    "\n",
    "k = 5\n",
    "cv_scores = cross_val_score(model, X, y, cv=k)\n",
    "\n",
    "print(f\"Cross-validation scores: {cv_scores}\")\n",
    "print(f\"Mean accuracy: {cv_scores.mean()*100:.2f}\")"
   ]
  },
  {
   "cell_type": "markdown",
   "id": "2a3899c4",
   "metadata": {},
   "source": [
    "-------------------------------------"
   ]
  },
  {
   "cell_type": "code",
   "execution_count": 59,
   "id": "893297d6",
   "metadata": {},
   "outputs": [],
   "source": [
    "#Final Model"
   ]
  },
  {
   "cell_type": "code",
   "execution_count": 60,
   "id": "e6ad1622",
   "metadata": {},
   "outputs": [
    {
     "data": {
      "text/plain": [
       "LogisticRegression()"
      ]
     },
     "execution_count": 60,
     "metadata": {},
     "output_type": "execute_result"
    }
   ],
   "source": [
    "Project1_model=LogisticRegression()\n",
    "Project1_model.fit(X,y)\n"
   ]
  },
  {
   "cell_type": "code",
   "execution_count": 63,
   "id": "57e6104d",
   "metadata": {},
   "outputs": [],
   "source": [
    "with open('Project1_model.pkl', 'wb') as file:\n",
    "    pickle.dump(Project1_model, file)"
   ]
  },
  {
   "cell_type": "code",
   "execution_count": 64,
   "id": "c74df389",
   "metadata": {},
   "outputs": [],
   "source": [
    "# import joblib\n",
    "# joblib.dump(Project1_model, 'model.joblib')"
   ]
  },
  {
   "cell_type": "code",
   "execution_count": null,
   "id": "6aac0934",
   "metadata": {},
   "outputs": [],
   "source": []
  },
  {
   "cell_type": "code",
   "execution_count": 65,
   "id": "082ce532",
   "metadata": {},
   "outputs": [],
   "source": [
    "# with open('model.pkl', 'wb') as file:\n",
    "#     cloudpickle.dump(Project1_model, file)"
   ]
  },
  {
   "cell_type": "code",
   "execution_count": null,
   "id": "33a47aea",
   "metadata": {},
   "outputs": [],
   "source": []
  },
  {
   "cell_type": "code",
   "execution_count": null,
   "id": "3ab1705f",
   "metadata": {},
   "outputs": [],
   "source": []
  },
  {
   "cell_type": "code",
   "execution_count": null,
   "id": "da020d0c",
   "metadata": {},
   "outputs": [],
   "source": []
  },
  {
   "cell_type": "code",
   "execution_count": null,
   "id": "617c2e1f",
   "metadata": {},
   "outputs": [],
   "source": []
  },
  {
   "cell_type": "code",
   "execution_count": null,
   "id": "33bb4258",
   "metadata": {},
   "outputs": [],
   "source": []
  },
  {
   "cell_type": "code",
   "execution_count": null,
   "id": "2a22a48e",
   "metadata": {},
   "outputs": [],
   "source": []
  },
  {
   "cell_type": "code",
   "execution_count": null,
   "id": "613b376e",
   "metadata": {},
   "outputs": [],
   "source": []
  },
  {
   "cell_type": "code",
   "execution_count": null,
   "id": "d42d2dfd",
   "metadata": {},
   "outputs": [],
   "source": []
  },
  {
   "cell_type": "code",
   "execution_count": null,
   "id": "14a21a70",
   "metadata": {},
   "outputs": [],
   "source": []
  }
 ],
 "metadata": {
  "kernelspec": {
   "display_name": "Python 3 (ipykernel)",
   "language": "python",
   "name": "python3"
  },
  "language_info": {
   "codemirror_mode": {
    "name": "ipython",
    "version": 3
   },
   "file_extension": ".py",
   "mimetype": "text/x-python",
   "name": "python",
   "nbconvert_exporter": "python",
   "pygments_lexer": "ipython3",
   "version": "3.9.12"
  }
 },
 "nbformat": 4,
 "nbformat_minor": 5
}
